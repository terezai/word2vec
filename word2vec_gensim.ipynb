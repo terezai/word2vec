{
 "cells": [
  {
   "cell_type": "code",
   "execution_count": 12,
   "metadata": {},
   "outputs": [],
   "source": [
    "# imports needed and set up logging\n",
    "import gzip\n",
    "import gensim \n",
    "import logging\n",
    "\n",
    "logging.basicConfig(format='%(asctime)s : %(levelname)s : %(message)s', level=logging.INFO)"
   ]
  },
  {
   "cell_type": "code",
   "execution_count": 13,
   "metadata": {},
   "outputs": [
    {
     "name": "stdout",
     "output_type": "stream",
     "text": [
      "b\"Oct 12 2009 \\tNice trendy hotel location not too bad.\\tI stayed in this hotel for one night. As this is a fairly new place some of the taxi drivers did not know where it was and/or did not want to drive there. Once I have eventually arrived at the hotel, I was very pleasantly surprised with the decor of the lobby/ground floor area. It was very stylish and modern. I found the reception's staff geeting me with 'Aloha' a bit out of place, but I guess they are briefed to say that to keep up the coroporate image.As I have a Starwood Preferred Guest member, I was given a small gift upon-check in. It was only a couple of fridge magnets in a gift box, but nevertheless a nice gesture.My room was nice and roomy, there are tea and coffee facilities in each room and you get two complimentary bottles of water plus some toiletries by 'bliss'.The location is not great. It is at the last metro stop and you then need to take a taxi, but if you are not planning on going to see the historic sites in Beijing, then you will be ok.I chose to have some breakfast in the hotel, which was really tasty and there was a good selection of dishes. There are a couple of computers to use in the communal area, as well as a pool table. There is also a small swimming pool and a gym area.I would definitely stay in this hotel again, but only if I did not plan to travel to central Beijing, as it can take a long time. The location is ok if you plan to do a lot of shopping, as there is a big shopping centre just few minutes away from the hotel and there are plenty of eating options around, including restaurants that serve a dog meat!\\t\\r\\n\"\n"
     ]
    }
   ],
   "source": [
    "data_file=\"/Users/shterenbergt/Downloads/reviews_data.txt.gz\"\n",
    "\n",
    "with gzip.open ('/Users/shterenbergt/Downloads/reviews_data.txt.gz', 'rb') as f:\n",
    "    for i,line in enumerate (f):\n",
    "        print(line)\n",
    "        break"
   ]
  },
  {
   "cell_type": "code",
   "execution_count": 14,
   "metadata": {},
   "outputs": [
    {
     "name": "stderr",
     "output_type": "stream",
     "text": [
      "2018-10-08 21:12:26,050 : INFO : reading file /Users/shterenbergt/Downloads/reviews_data.txt.gz...this may take a while\n",
      "2018-10-08 21:12:26,052 : INFO : read 0 reviews\n",
      "2018-10-08 21:12:28,243 : INFO : read 10000 reviews\n",
      "2018-10-08 21:12:30,159 : INFO : read 20000 reviews\n",
      "2018-10-08 21:12:32,510 : INFO : read 30000 reviews\n",
      "2018-10-08 21:12:34,789 : INFO : read 40000 reviews\n",
      "2018-10-08 21:12:37,181 : INFO : read 50000 reviews\n",
      "2018-10-08 21:12:39,790 : INFO : read 60000 reviews\n",
      "2018-10-08 21:12:42,006 : INFO : read 70000 reviews\n",
      "2018-10-08 21:12:43,946 : INFO : read 80000 reviews\n",
      "2018-10-08 21:12:45,823 : INFO : read 90000 reviews\n",
      "2018-10-08 21:12:47,612 : INFO : read 100000 reviews\n",
      "2018-10-08 21:12:49,341 : INFO : read 110000 reviews\n",
      "2018-10-08 21:12:51,286 : INFO : read 120000 reviews\n",
      "2018-10-08 21:12:53,270 : INFO : read 130000 reviews\n",
      "2018-10-08 21:12:55,325 : INFO : read 140000 reviews\n",
      "2018-10-08 21:12:57,726 : INFO : read 150000 reviews\n",
      "2018-10-08 21:12:59,785 : INFO : read 160000 reviews\n",
      "2018-10-08 21:13:01,754 : INFO : read 170000 reviews\n",
      "2018-10-08 21:13:03,651 : INFO : read 180000 reviews\n",
      "2018-10-08 21:13:05,601 : INFO : read 190000 reviews\n",
      "2018-10-08 21:13:07,613 : INFO : read 200000 reviews\n",
      "2018-10-08 21:13:09,889 : INFO : read 210000 reviews\n",
      "2018-10-08 21:13:12,032 : INFO : read 220000 reviews\n",
      "2018-10-08 21:13:14,170 : INFO : read 230000 reviews\n",
      "2018-10-08 21:13:16,300 : INFO : read 240000 reviews\n",
      "2018-10-08 21:13:19,118 : INFO : read 250000 reviews\n",
      "2018-10-08 21:13:20,213 : INFO : Done reading data file\n"
     ]
    }
   ],
   "source": [
    "def read_input(input_file):\n",
    "    \"\"\"This method reads the input file which is in gzip format\"\"\"\n",
    "    \n",
    "    logging.info(\"reading file {0}...this may take a while\".format(input_file))\n",
    "    \n",
    "    with gzip.open (input_file, 'rb') as f:\n",
    "        for i, line in enumerate (f): \n",
    "\n",
    "            if (i%10000==0):\n",
    "                logging.info (\"read {0} reviews\".format (i))\n",
    "            # do some pre-processing and return a list of words for each review text\n",
    "            yield gensim.utils.simple_preprocess (line)\n",
    "\n",
    "# read the tokenized reviews into a list\n",
    "# each review item becomes a serries of words\n",
    "# so this becomes a list of lists\n",
    "documents = list (read_input (data_file))\n",
    "logging.info (\"Done reading data file\")"
   ]
  },
  {
   "cell_type": "code",
   "execution_count": 15,
   "metadata": {},
   "outputs": [
    {
     "name": "stderr",
     "output_type": "stream",
     "text": [
      "2018-10-08 21:13:31,151 : WARNING : consider setting layer size to a multiple of 4 for greater performance\n",
      "2018-10-08 21:13:31,152 : INFO : collecting all words and their counts\n",
      "2018-10-08 21:13:31,154 : INFO : PROGRESS: at sentence #0, processed 0 words, keeping 0 word types\n",
      "2018-10-08 21:13:31,475 : INFO : PROGRESS: at sentence #10000, processed 1655714 words, keeping 25777 word types\n",
      "2018-10-08 21:13:31,700 : INFO : PROGRESS: at sentence #20000, processed 3317863 words, keeping 35016 word types\n",
      "2018-10-08 21:13:31,970 : INFO : PROGRESS: at sentence #30000, processed 5264072 words, keeping 47518 word types\n",
      "2018-10-08 21:13:32,218 : INFO : PROGRESS: at sentence #40000, processed 7081746 words, keeping 56675 word types\n",
      "2018-10-08 21:13:32,558 : INFO : PROGRESS: at sentence #50000, processed 9089491 words, keeping 63744 word types\n",
      "2018-10-08 21:13:32,955 : INFO : PROGRESS: at sentence #60000, processed 11013723 words, keeping 76781 word types\n",
      "2018-10-08 21:13:33,220 : INFO : PROGRESS: at sentence #70000, processed 12637525 words, keeping 83194 word types\n",
      "2018-10-08 21:13:33,466 : INFO : PROGRESS: at sentence #80000, processed 14099751 words, keeping 88454 word types\n",
      "2018-10-08 21:13:33,722 : INFO : PROGRESS: at sentence #90000, processed 15662149 words, keeping 93352 word types\n",
      "2018-10-08 21:13:33,941 : INFO : PROGRESS: at sentence #100000, processed 17164487 words, keeping 97881 word types\n",
      "2018-10-08 21:13:34,166 : INFO : PROGRESS: at sentence #110000, processed 18652292 words, keeping 102127 word types\n",
      "2018-10-08 21:13:34,387 : INFO : PROGRESS: at sentence #120000, processed 20152529 words, keeping 105918 word types\n",
      "2018-10-08 21:13:34,730 : INFO : PROGRESS: at sentence #130000, processed 21684330 words, keeping 110099 word types\n",
      "2018-10-08 21:13:35,005 : INFO : PROGRESS: at sentence #140000, processed 23330206 words, keeping 114103 word types\n",
      "2018-10-08 21:13:35,272 : INFO : PROGRESS: at sentence #150000, processed 24838754 words, keeping 118169 word types\n",
      "2018-10-08 21:13:35,574 : INFO : PROGRESS: at sentence #160000, processed 26390910 words, keeping 118665 word types\n",
      "2018-10-08 21:13:35,798 : INFO : PROGRESS: at sentence #170000, processed 27913916 words, keeping 123350 word types\n",
      "2018-10-08 21:13:36,040 : INFO : PROGRESS: at sentence #180000, processed 29535612 words, keeping 126742 word types\n",
      "2018-10-08 21:13:36,268 : INFO : PROGRESS: at sentence #190000, processed 31096459 words, keeping 129841 word types\n",
      "2018-10-08 21:13:36,532 : INFO : PROGRESS: at sentence #200000, processed 32805271 words, keeping 133249 word types\n",
      "2018-10-08 21:13:36,759 : INFO : PROGRESS: at sentence #210000, processed 34434198 words, keeping 136358 word types\n",
      "2018-10-08 21:13:37,003 : INFO : PROGRESS: at sentence #220000, processed 36083482 words, keeping 139412 word types\n",
      "2018-10-08 21:13:37,223 : INFO : PROGRESS: at sentence #230000, processed 37571762 words, keeping 142393 word types\n",
      "2018-10-08 21:13:37,482 : INFO : PROGRESS: at sentence #240000, processed 39138190 words, keeping 145226 word types\n",
      "2018-10-08 21:13:37,807 : INFO : PROGRESS: at sentence #250000, processed 40695049 words, keeping 147960 word types\n",
      "2018-10-08 21:13:37,951 : INFO : collected 150053 word types from a corpus of 41519355 raw words and 255404 sentences\n",
      "2018-10-08 21:13:37,951 : INFO : Loading a fresh vocabulary\n",
      "2018-10-08 21:13:38,163 : INFO : effective_min_count=2 retains 70538 unique words (47% of original 150053, drops 79515)\n",
      "2018-10-08 21:13:38,164 : INFO : effective_min_count=2 leaves 41439840 word corpus (99% of original 41519355, drops 79515)\n",
      "2018-10-08 21:13:38,377 : INFO : deleting the raw counts dictionary of 150053 items\n",
      "2018-10-08 21:13:38,381 : INFO : sample=0.001 downsamples 55 most-common words\n",
      "2018-10-08 21:13:38,382 : INFO : downsampling leaves estimated 30349255 word corpus (73.2% of prior 41439840)\n",
      "2018-10-08 21:13:38,666 : INFO : estimated required memory for 70538 words and 150 dimensions: 119914600 bytes\n",
      "2018-10-08 21:13:38,667 : INFO : resetting layer weights\n",
      "2018-10-08 21:13:39,367 : INFO : training model with 10 workers on 70538 vocabulary and 150 features, using sg=0 hs=0 sample=0.001 negative=5 window=10\n",
      "2018-10-08 21:13:40,374 : INFO : EPOCH 1 - PROGRESS: at 5.68% examples, 1750050 words/s, in_qsize 18, out_qsize 1\n",
      "2018-10-08 21:13:41,378 : INFO : EPOCH 1 - PROGRESS: at 11.61% examples, 1884772 words/s, in_qsize 17, out_qsize 2\n",
      "2018-10-08 21:13:42,384 : INFO : EPOCH 1 - PROGRESS: at 16.90% examples, 1869787 words/s, in_qsize 19, out_qsize 0\n",
      "2018-10-08 21:13:43,386 : INFO : EPOCH 1 - PROGRESS: at 22.14% examples, 1874648 words/s, in_qsize 18, out_qsize 1\n",
      "2018-10-08 21:13:44,388 : INFO : EPOCH 1 - PROGRESS: at 27.99% examples, 1870995 words/s, in_qsize 19, out_qsize 0\n",
      "2018-10-08 21:13:45,404 : INFO : EPOCH 1 - PROGRESS: at 33.34% examples, 1803078 words/s, in_qsize 19, out_qsize 1\n",
      "2018-10-08 21:13:46,418 : INFO : EPOCH 1 - PROGRESS: at 38.31% examples, 1748391 words/s, in_qsize 20, out_qsize 3\n",
      "2018-10-08 21:13:47,429 : INFO : EPOCH 1 - PROGRESS: at 44.18% examples, 1729494 words/s, in_qsize 19, out_qsize 0\n",
      "2018-10-08 21:13:48,452 : INFO : EPOCH 1 - PROGRESS: at 49.07% examples, 1687008 words/s, in_qsize 20, out_qsize 2\n",
      "2018-10-08 21:13:49,453 : INFO : EPOCH 1 - PROGRESS: at 53.72% examples, 1659390 words/s, in_qsize 19, out_qsize 0\n",
      "2018-10-08 21:13:50,458 : INFO : EPOCH 1 - PROGRESS: at 58.65% examples, 1636186 words/s, in_qsize 18, out_qsize 1\n",
      "2018-10-08 21:13:51,458 : INFO : EPOCH 1 - PROGRESS: at 63.44% examples, 1614046 words/s, in_qsize 19, out_qsize 0\n",
      "2018-10-08 21:13:52,460 : INFO : EPOCH 1 - PROGRESS: at 69.28% examples, 1621049 words/s, in_qsize 16, out_qsize 3\n",
      "2018-10-08 21:13:53,464 : INFO : EPOCH 1 - PROGRESS: at 75.48% examples, 1637649 words/s, in_qsize 18, out_qsize 1\n",
      "2018-10-08 21:13:54,467 : INFO : EPOCH 1 - PROGRESS: at 80.51% examples, 1633624 words/s, in_qsize 16, out_qsize 3\n",
      "2018-10-08 21:13:55,471 : INFO : EPOCH 1 - PROGRESS: at 85.69% examples, 1629983 words/s, in_qsize 17, out_qsize 2\n",
      "2018-10-08 21:13:56,474 : INFO : EPOCH 1 - PROGRESS: at 91.76% examples, 1634497 words/s, in_qsize 17, out_qsize 2\n",
      "2018-10-08 21:13:57,475 : INFO : EPOCH 1 - PROGRESS: at 97.38% examples, 1634511 words/s, in_qsize 18, out_qsize 1\n",
      "2018-10-08 21:13:57,887 : INFO : worker thread finished; awaiting finish of 9 more threads\n",
      "2018-10-08 21:13:57,891 : INFO : worker thread finished; awaiting finish of 8 more threads\n",
      "2018-10-08 21:13:57,893 : INFO : worker thread finished; awaiting finish of 7 more threads\n",
      "2018-10-08 21:13:57,894 : INFO : worker thread finished; awaiting finish of 6 more threads\n",
      "2018-10-08 21:13:57,895 : INFO : worker thread finished; awaiting finish of 5 more threads\n",
      "2018-10-08 21:13:57,896 : INFO : worker thread finished; awaiting finish of 4 more threads\n",
      "2018-10-08 21:13:57,905 : INFO : worker thread finished; awaiting finish of 3 more threads\n",
      "2018-10-08 21:13:57,907 : INFO : worker thread finished; awaiting finish of 2 more threads\n",
      "2018-10-08 21:13:57,911 : INFO : worker thread finished; awaiting finish of 1 more threads\n",
      "2018-10-08 21:13:57,913 : INFO : worker thread finished; awaiting finish of 0 more threads\n",
      "2018-10-08 21:13:57,914 : INFO : EPOCH - 1 : training on 41519355 raw words (30349308 effective words) took 18.5s, 1636855 effective words/s\n",
      "2018-10-08 21:13:58,931 : INFO : EPOCH 2 - PROGRESS: at 4.94% examples, 1512142 words/s, in_qsize 19, out_qsize 2\n",
      "2018-10-08 21:13:59,933 : INFO : EPOCH 2 - PROGRESS: at 10.22% examples, 1626550 words/s, in_qsize 18, out_qsize 1\n",
      "2018-10-08 21:14:00,936 : INFO : EPOCH 2 - PROGRESS: at 15.25% examples, 1677419 words/s, in_qsize 18, out_qsize 1\n",
      "2018-10-08 21:14:01,943 : INFO : EPOCH 2 - PROGRESS: at 20.45% examples, 1736678 words/s, in_qsize 17, out_qsize 2\n",
      "2018-10-08 21:14:02,954 : INFO : EPOCH 2 - PROGRESS: at 25.74% examples, 1747400 words/s, in_qsize 17, out_qsize 2\n",
      "2018-10-08 21:14:03,955 : INFO : EPOCH 2 - PROGRESS: at 32.64% examples, 1770925 words/s, in_qsize 19, out_qsize 0\n",
      "2018-10-08 21:14:04,956 : INFO : EPOCH 2 - PROGRESS: at 38.44% examples, 1755832 words/s, in_qsize 18, out_qsize 1\n",
      "2018-10-08 21:14:05,965 : INFO : EPOCH 2 - PROGRESS: at 43.59% examples, 1713940 words/s, in_qsize 19, out_qsize 0\n"
     ]
    },
    {
     "name": "stderr",
     "output_type": "stream",
     "text": [
      "2018-10-08 21:14:06,984 : INFO : EPOCH 2 - PROGRESS: at 49.47% examples, 1703329 words/s, in_qsize 17, out_qsize 2\n",
      "2018-10-08 21:14:07,996 : INFO : EPOCH 2 - PROGRESS: at 53.50% examples, 1654236 words/s, in_qsize 20, out_qsize 0\n",
      "2018-10-08 21:14:09,000 : INFO : EPOCH 2 - PROGRESS: at 58.41% examples, 1631498 words/s, in_qsize 19, out_qsize 0\n",
      "2018-10-08 21:14:10,009 : INFO : EPOCH 2 - PROGRESS: at 63.36% examples, 1612260 words/s, in_qsize 19, out_qsize 0\n",
      "2018-10-08 21:14:11,009 : INFO : EPOCH 2 - PROGRESS: at 68.46% examples, 1602104 words/s, in_qsize 17, out_qsize 2\n",
      "2018-10-08 21:14:12,009 : INFO : EPOCH 2 - PROGRESS: at 74.30% examples, 1611684 words/s, in_qsize 19, out_qsize 0\n",
      "2018-10-08 21:14:13,019 : INFO : EPOCH 2 - PROGRESS: at 79.16% examples, 1605815 words/s, in_qsize 18, out_qsize 1\n",
      "2018-10-08 21:14:14,022 : INFO : EPOCH 2 - PROGRESS: at 84.79% examples, 1613036 words/s, in_qsize 18, out_qsize 1\n",
      "2018-10-08 21:14:15,025 : INFO : EPOCH 2 - PROGRESS: at 91.01% examples, 1621896 words/s, in_qsize 17, out_qsize 2\n",
      "2018-10-08 21:14:16,040 : INFO : EPOCH 2 - PROGRESS: at 96.84% examples, 1625415 words/s, in_qsize 18, out_qsize 1\n",
      "2018-10-08 21:14:16,645 : INFO : worker thread finished; awaiting finish of 9 more threads\n",
      "2018-10-08 21:14:16,651 : INFO : worker thread finished; awaiting finish of 8 more threads\n",
      "2018-10-08 21:14:16,652 : INFO : worker thread finished; awaiting finish of 7 more threads\n",
      "2018-10-08 21:14:16,666 : INFO : worker thread finished; awaiting finish of 6 more threads\n",
      "2018-10-08 21:14:16,667 : INFO : worker thread finished; awaiting finish of 5 more threads\n",
      "2018-10-08 21:14:16,668 : INFO : worker thread finished; awaiting finish of 4 more threads\n",
      "2018-10-08 21:14:16,669 : INFO : worker thread finished; awaiting finish of 3 more threads\n",
      "2018-10-08 21:14:16,670 : INFO : worker thread finished; awaiting finish of 2 more threads\n",
      "2018-10-08 21:14:16,673 : INFO : worker thread finished; awaiting finish of 1 more threads\n",
      "2018-10-08 21:14:16,676 : INFO : worker thread finished; awaiting finish of 0 more threads\n",
      "2018-10-08 21:14:16,677 : INFO : EPOCH - 2 : training on 41519355 raw words (30350873 effective words) took 18.8s, 1618384 effective words/s\n",
      "2018-10-08 21:14:17,689 : INFO : EPOCH 3 - PROGRESS: at 4.79% examples, 1466075 words/s, in_qsize 19, out_qsize 0\n",
      "2018-10-08 21:14:18,690 : INFO : EPOCH 3 - PROGRESS: at 9.83% examples, 1554655 words/s, in_qsize 18, out_qsize 1\n",
      "2018-10-08 21:14:19,694 : INFO : EPOCH 3 - PROGRESS: at 15.09% examples, 1662075 words/s, in_qsize 18, out_qsize 1\n",
      "2018-10-08 21:14:20,703 : INFO : EPOCH 3 - PROGRESS: at 20.21% examples, 1715107 words/s, in_qsize 17, out_qsize 2\n",
      "2018-10-08 21:14:21,705 : INFO : EPOCH 3 - PROGRESS: at 25.40% examples, 1731941 words/s, in_qsize 19, out_qsize 0\n",
      "2018-10-08 21:14:22,718 : INFO : EPOCH 3 - PROGRESS: at 32.16% examples, 1747432 words/s, in_qsize 17, out_qsize 2\n",
      "2018-10-08 21:14:23,718 : INFO : EPOCH 3 - PROGRESS: at 38.86% examples, 1772757 words/s, in_qsize 19, out_qsize 0\n",
      "2018-10-08 21:14:24,725 : INFO : EPOCH 3 - PROGRESS: at 45.78% examples, 1787344 words/s, in_qsize 18, out_qsize 1\n",
      "2018-10-08 21:14:25,729 : INFO : EPOCH 3 - PROGRESS: at 51.27% examples, 1764847 words/s, in_qsize 18, out_qsize 1\n",
      "2018-10-08 21:14:26,730 : INFO : EPOCH 3 - PROGRESS: at 57.14% examples, 1760713 words/s, in_qsize 17, out_qsize 2\n",
      "2018-10-08 21:14:27,738 : INFO : EPOCH 3 - PROGRESS: at 63.15% examples, 1757935 words/s, in_qsize 19, out_qsize 0\n",
      "2018-10-08 21:14:28,744 : INFO : EPOCH 3 - PROGRESS: at 69.49% examples, 1765034 words/s, in_qsize 18, out_qsize 1\n",
      "2018-10-08 21:14:29,747 : INFO : EPOCH 3 - PROGRESS: at 75.86% examples, 1775746 words/s, in_qsize 19, out_qsize 0\n",
      "2018-10-08 21:14:30,750 : INFO : EPOCH 3 - PROGRESS: at 81.74% examples, 1779548 words/s, in_qsize 19, out_qsize 0\n",
      "2018-10-08 21:14:31,751 : INFO : EPOCH 3 - PROGRESS: at 87.40% examples, 1773574 words/s, in_qsize 18, out_qsize 1\n",
      "2018-10-08 21:14:32,755 : INFO : EPOCH 3 - PROGRESS: at 93.85% examples, 1777758 words/s, in_qsize 19, out_qsize 0\n",
      "2018-10-08 21:14:33,737 : INFO : worker thread finished; awaiting finish of 9 more threads\n",
      "2018-10-08 21:14:33,742 : INFO : worker thread finished; awaiting finish of 8 more threads\n",
      "2018-10-08 21:14:33,742 : INFO : worker thread finished; awaiting finish of 7 more threads\n",
      "2018-10-08 21:14:33,743 : INFO : worker thread finished; awaiting finish of 6 more threads\n",
      "2018-10-08 21:14:33,750 : INFO : worker thread finished; awaiting finish of 5 more threads\n",
      "2018-10-08 21:14:33,752 : INFO : worker thread finished; awaiting finish of 4 more threads\n",
      "2018-10-08 21:14:33,754 : INFO : worker thread finished; awaiting finish of 3 more threads\n",
      "2018-10-08 21:14:33,755 : INFO : worker thread finished; awaiting finish of 2 more threads\n",
      "2018-10-08 21:14:33,756 : INFO : EPOCH 3 - PROGRESS: at 99.98% examples, 1777309 words/s, in_qsize 1, out_qsize 1\n",
      "2018-10-08 21:14:33,756 : INFO : worker thread finished; awaiting finish of 1 more threads\n",
      "2018-10-08 21:14:33,762 : INFO : worker thread finished; awaiting finish of 0 more threads\n",
      "2018-10-08 21:14:33,763 : INFO : EPOCH - 3 : training on 41519355 raw words (30348010 effective words) took 17.1s, 1777011 effective words/s\n",
      "2018-10-08 21:14:34,773 : INFO : EPOCH 4 - PROGRESS: at 4.39% examples, 1345689 words/s, in_qsize 18, out_qsize 1\n",
      "2018-10-08 21:14:35,783 : INFO : EPOCH 4 - PROGRESS: at 9.81% examples, 1544889 words/s, in_qsize 19, out_qsize 0\n",
      "2018-10-08 21:14:36,796 : INFO : EPOCH 4 - PROGRESS: at 14.75% examples, 1612425 words/s, in_qsize 19, out_qsize 0\n",
      "2018-10-08 21:14:37,804 : INFO : EPOCH 4 - PROGRESS: at 19.90% examples, 1678561 words/s, in_qsize 19, out_qsize 0\n",
      "2018-10-08 21:14:38,817 : INFO : EPOCH 4 - PROGRESS: at 25.25% examples, 1714395 words/s, in_qsize 19, out_qsize 0\n",
      "2018-10-08 21:14:39,821 : INFO : EPOCH 4 - PROGRESS: at 32.09% examples, 1738963 words/s, in_qsize 19, out_qsize 0\n",
      "2018-10-08 21:14:40,828 : INFO : EPOCH 4 - PROGRESS: at 38.44% examples, 1749462 words/s, in_qsize 19, out_qsize 0\n",
      "2018-10-08 21:14:41,844 : INFO : EPOCH 4 - PROGRESS: at 45.29% examples, 1762204 words/s, in_qsize 16, out_qsize 3\n",
      "2018-10-08 21:14:42,849 : INFO : EPOCH 4 - PROGRESS: at 51.74% examples, 1773285 words/s, in_qsize 18, out_qsize 1\n",
      "2018-10-08 21:14:43,853 : INFO : EPOCH 4 - PROGRESS: at 58.08% examples, 1782098 words/s, in_qsize 16, out_qsize 3\n",
      "2018-10-08 21:14:44,853 : INFO : EPOCH 4 - PROGRESS: at 64.68% examples, 1788229 words/s, in_qsize 18, out_qsize 1\n",
      "2018-10-08 21:14:45,859 : INFO : EPOCH 4 - PROGRESS: at 70.85% examples, 1795858 words/s, in_qsize 19, out_qsize 0\n",
      "2018-10-08 21:14:46,859 : INFO : EPOCH 4 - PROGRESS: at 77.03% examples, 1800679 words/s, in_qsize 19, out_qsize 0\n",
      "2018-10-08 21:14:47,862 : INFO : EPOCH 4 - PROGRESS: at 83.10% examples, 1804336 words/s, in_qsize 19, out_qsize 0\n",
      "2018-10-08 21:14:48,864 : INFO : EPOCH 4 - PROGRESS: at 89.30% examples, 1805216 words/s, in_qsize 17, out_qsize 2\n",
      "2018-10-08 21:14:49,868 : INFO : EPOCH 4 - PROGRESS: at 95.55% examples, 1804782 words/s, in_qsize 18, out_qsize 1\n",
      "2018-10-08 21:14:50,558 : INFO : worker thread finished; awaiting finish of 9 more threads\n",
      "2018-10-08 21:14:50,560 : INFO : worker thread finished; awaiting finish of 8 more threads\n",
      "2018-10-08 21:14:50,578 : INFO : worker thread finished; awaiting finish of 7 more threads\n",
      "2018-10-08 21:14:50,585 : INFO : worker thread finished; awaiting finish of 6 more threads\n",
      "2018-10-08 21:14:50,587 : INFO : worker thread finished; awaiting finish of 5 more threads\n",
      "2018-10-08 21:14:50,588 : INFO : worker thread finished; awaiting finish of 4 more threads\n",
      "2018-10-08 21:14:50,589 : INFO : worker thread finished; awaiting finish of 3 more threads\n",
      "2018-10-08 21:14:50,598 : INFO : worker thread finished; awaiting finish of 2 more threads\n",
      "2018-10-08 21:14:50,606 : INFO : worker thread finished; awaiting finish of 1 more threads\n",
      "2018-10-08 21:14:50,609 : INFO : worker thread finished; awaiting finish of 0 more threads\n",
      "2018-10-08 21:14:50,610 : INFO : EPOCH - 4 : training on 41519355 raw words (30347284 effective words) took 16.8s, 1802046 effective words/s\n",
      "2018-10-08 21:14:51,626 : INFO : EPOCH 5 - PROGRESS: at 5.76% examples, 1756123 words/s, in_qsize 18, out_qsize 1\n"
     ]
    },
    {
     "name": "stderr",
     "output_type": "stream",
     "text": [
      "2018-10-08 21:14:52,629 : INFO : EPOCH 5 - PROGRESS: at 11.15% examples, 1792208 words/s, in_qsize 19, out_qsize 0\n",
      "2018-10-08 21:14:53,639 : INFO : EPOCH 5 - PROGRESS: at 16.53% examples, 1820350 words/s, in_qsize 19, out_qsize 0\n",
      "2018-10-08 21:14:54,646 : INFO : EPOCH 5 - PROGRESS: at 21.87% examples, 1842124 words/s, in_qsize 19, out_qsize 0\n",
      "2018-10-08 21:14:55,653 : INFO : EPOCH 5 - PROGRESS: at 27.72% examples, 1848849 words/s, in_qsize 18, out_qsize 1\n",
      "2018-10-08 21:14:56,653 : INFO : EPOCH 5 - PROGRESS: at 34.33% examples, 1852068 words/s, in_qsize 20, out_qsize 0\n",
      "2018-10-08 21:14:57,655 : INFO : EPOCH 5 - PROGRESS: at 41.03% examples, 1857816 words/s, in_qsize 19, out_qsize 0\n",
      "2018-10-08 21:14:58,657 : INFO : EPOCH 5 - PROGRESS: at 47.65% examples, 1856495 words/s, in_qsize 20, out_qsize 0\n",
      "2018-10-08 21:14:59,659 : INFO : EPOCH 5 - PROGRESS: at 53.83% examples, 1852974 words/s, in_qsize 19, out_qsize 0\n",
      "2018-10-08 21:15:00,660 : INFO : EPOCH 5 - PROGRESS: at 60.11% examples, 1848438 words/s, in_qsize 18, out_qsize 1\n",
      "2018-10-08 21:15:01,663 : INFO : EPOCH 5 - PROGRESS: at 66.53% examples, 1846395 words/s, in_qsize 17, out_qsize 2\n",
      "2018-10-08 21:15:02,669 : INFO : EPOCH 5 - PROGRESS: at 72.83% examples, 1848801 words/s, in_qsize 19, out_qsize 0\n",
      "2018-10-08 21:15:03,676 : INFO : EPOCH 5 - PROGRESS: at 78.93% examples, 1851103 words/s, in_qsize 18, out_qsize 1\n",
      "2018-10-08 21:15:04,677 : INFO : EPOCH 5 - PROGRESS: at 85.01% examples, 1851856 words/s, in_qsize 19, out_qsize 0\n",
      "2018-10-08 21:15:05,688 : INFO : EPOCH 5 - PROGRESS: at 91.50% examples, 1849833 words/s, in_qsize 19, out_qsize 0\n",
      "2018-10-08 21:15:06,696 : INFO : EPOCH 5 - PROGRESS: at 97.83% examples, 1849030 words/s, in_qsize 17, out_qsize 2\n",
      "2018-10-08 21:15:06,957 : INFO : worker thread finished; awaiting finish of 9 more threads\n",
      "2018-10-08 21:15:06,959 : INFO : worker thread finished; awaiting finish of 8 more threads\n",
      "2018-10-08 21:15:06,968 : INFO : worker thread finished; awaiting finish of 7 more threads\n",
      "2018-10-08 21:15:06,973 : INFO : worker thread finished; awaiting finish of 6 more threads\n",
      "2018-10-08 21:15:06,978 : INFO : worker thread finished; awaiting finish of 5 more threads\n",
      "2018-10-08 21:15:06,979 : INFO : worker thread finished; awaiting finish of 4 more threads\n",
      "2018-10-08 21:15:06,980 : INFO : worker thread finished; awaiting finish of 3 more threads\n",
      "2018-10-08 21:15:06,982 : INFO : worker thread finished; awaiting finish of 2 more threads\n",
      "2018-10-08 21:15:06,991 : INFO : worker thread finished; awaiting finish of 1 more threads\n",
      "2018-10-08 21:15:06,992 : INFO : worker thread finished; awaiting finish of 0 more threads\n",
      "2018-10-08 21:15:06,993 : INFO : EPOCH - 5 : training on 41519355 raw words (30349987 effective words) took 16.4s, 1853200 effective words/s\n",
      "2018-10-08 21:15:06,994 : INFO : training on a 207596775 raw words (151745462 effective words) took 87.6s, 1731767 effective words/s\n",
      "2018-10-08 21:15:06,995 : WARNING : Effective 'alpha' higher than previous training cycles\n",
      "2018-10-08 21:15:06,996 : INFO : training model with 10 workers on 70538 vocabulary and 150 features, using sg=0 hs=0 sample=0.001 negative=5 window=10\n",
      "2018-10-08 21:15:08,008 : INFO : EPOCH 1 - PROGRESS: at 5.85% examples, 1800232 words/s, in_qsize 18, out_qsize 1\n",
      "2018-10-08 21:15:09,008 : INFO : EPOCH 1 - PROGRESS: at 11.34% examples, 1827787 words/s, in_qsize 18, out_qsize 1\n",
      "2018-10-08 21:15:10,014 : INFO : EPOCH 1 - PROGRESS: at 16.39% examples, 1810521 words/s, in_qsize 19, out_qsize 0\n",
      "2018-10-08 21:15:11,015 : INFO : EPOCH 1 - PROGRESS: at 21.24% examples, 1809630 words/s, in_qsize 18, out_qsize 1\n",
      "2018-10-08 21:15:12,016 : INFO : EPOCH 1 - PROGRESS: at 26.72% examples, 1805397 words/s, in_qsize 19, out_qsize 0\n",
      "2018-10-08 21:15:13,025 : INFO : EPOCH 1 - PROGRESS: at 33.25% examples, 1802375 words/s, in_qsize 18, out_qsize 1\n",
      "2018-10-08 21:15:14,028 : INFO : EPOCH 1 - PROGRESS: at 39.42% examples, 1796543 words/s, in_qsize 20, out_qsize 1\n",
      "2018-10-08 21:15:15,036 : INFO : EPOCH 1 - PROGRESS: at 45.78% examples, 1789134 words/s, in_qsize 17, out_qsize 2\n",
      "2018-10-08 21:15:16,040 : INFO : EPOCH 1 - PROGRESS: at 51.79% examples, 1783040 words/s, in_qsize 18, out_qsize 1\n",
      "2018-10-08 21:15:17,043 : INFO : EPOCH 1 - PROGRESS: at 57.79% examples, 1781343 words/s, in_qsize 18, out_qsize 1\n",
      "2018-10-08 21:15:18,044 : INFO : EPOCH 1 - PROGRESS: at 64.19% examples, 1783502 words/s, in_qsize 19, out_qsize 0\n",
      "2018-10-08 21:15:19,047 : INFO : EPOCH 1 - PROGRESS: at 70.14% examples, 1785302 words/s, in_qsize 18, out_qsize 1\n",
      "2018-10-08 21:15:20,052 : INFO : EPOCH 1 - PROGRESS: at 76.18% examples, 1785939 words/s, in_qsize 17, out_qsize 2\n",
      "2018-10-08 21:15:21,054 : INFO : EPOCH 1 - PROGRESS: at 82.02% examples, 1787010 words/s, in_qsize 18, out_qsize 1\n",
      "2018-10-08 21:15:22,059 : INFO : EPOCH 1 - PROGRESS: at 88.17% examples, 1788714 words/s, in_qsize 20, out_qsize 0\n",
      "2018-10-08 21:15:23,062 : INFO : EPOCH 1 - PROGRESS: at 94.40% examples, 1788969 words/s, in_qsize 19, out_qsize 0\n",
      "2018-10-08 21:15:23,921 : INFO : worker thread finished; awaiting finish of 9 more threads\n",
      "2018-10-08 21:15:23,923 : INFO : worker thread finished; awaiting finish of 8 more threads\n",
      "2018-10-08 21:15:23,927 : INFO : worker thread finished; awaiting finish of 7 more threads\n",
      "2018-10-08 21:15:23,928 : INFO : worker thread finished; awaiting finish of 6 more threads\n",
      "2018-10-08 21:15:23,930 : INFO : worker thread finished; awaiting finish of 5 more threads\n",
      "2018-10-08 21:15:23,938 : INFO : worker thread finished; awaiting finish of 4 more threads\n",
      "2018-10-08 21:15:23,942 : INFO : worker thread finished; awaiting finish of 3 more threads\n",
      "2018-10-08 21:15:23,943 : INFO : worker thread finished; awaiting finish of 2 more threads\n",
      "2018-10-08 21:15:23,945 : INFO : worker thread finished; awaiting finish of 1 more threads\n",
      "2018-10-08 21:15:23,947 : INFO : worker thread finished; awaiting finish of 0 more threads\n",
      "2018-10-08 21:15:23,947 : INFO : EPOCH - 1 : training on 41519355 raw words (30348871 effective words) took 16.9s, 1791020 effective words/s\n",
      "2018-10-08 21:15:24,955 : INFO : EPOCH 2 - PROGRESS: at 5.84% examples, 1799924 words/s, in_qsize 19, out_qsize 0\n",
      "2018-10-08 21:15:25,959 : INFO : EPOCH 2 - PROGRESS: at 11.38% examples, 1834578 words/s, in_qsize 18, out_qsize 1\n",
      "2018-10-08 21:15:26,965 : INFO : EPOCH 2 - PROGRESS: at 16.66% examples, 1843207 words/s, in_qsize 18, out_qsize 1\n",
      "2018-10-08 21:15:27,969 : INFO : EPOCH 2 - PROGRESS: at 21.79% examples, 1839239 words/s, in_qsize 18, out_qsize 1\n",
      "2018-10-08 21:15:28,974 : INFO : EPOCH 2 - PROGRESS: at 27.43% examples, 1840022 words/s, in_qsize 16, out_qsize 3\n",
      "2018-10-08 21:15:29,978 : INFO : EPOCH 2 - PROGRESS: at 34.07% examples, 1844641 words/s, in_qsize 19, out_qsize 0\n",
      "2018-10-08 21:15:30,978 : INFO : EPOCH 2 - PROGRESS: at 40.64% examples, 1847975 words/s, in_qsize 19, out_qsize 0\n",
      "2018-10-08 21:15:31,983 : INFO : EPOCH 2 - PROGRESS: at 47.33% examples, 1847344 words/s, in_qsize 19, out_qsize 0\n",
      "2018-10-08 21:15:32,990 : INFO : EPOCH 2 - PROGRESS: at 53.62% examples, 1847753 words/s, in_qsize 17, out_qsize 2\n",
      "2018-10-08 21:15:33,995 : INFO : EPOCH 2 - PROGRESS: at 60.12% examples, 1848720 words/s, in_qsize 19, out_qsize 0\n",
      "2018-10-08 21:15:35,005 : INFO : EPOCH 2 - PROGRESS: at 65.37% examples, 1813163 words/s, in_qsize 17, out_qsize 2\n",
      "2018-10-08 21:15:36,008 : INFO : EPOCH 2 - PROGRESS: at 70.78% examples, 1799404 words/s, in_qsize 19, out_qsize 0\n",
      "2018-10-08 21:15:37,010 : INFO : EPOCH 2 - PROGRESS: at 76.76% examples, 1798626 words/s, in_qsize 19, out_qsize 0\n",
      "2018-10-08 21:15:38,017 : INFO : EPOCH 2 - PROGRESS: at 82.73% examples, 1800440 words/s, in_qsize 17, out_qsize 2\n",
      "2018-10-08 21:15:39,022 : INFO : EPOCH 2 - PROGRESS: at 89.23% examples, 1807070 words/s, in_qsize 19, out_qsize 0\n",
      "2018-10-08 21:15:40,029 : INFO : EPOCH 2 - PROGRESS: at 95.62% examples, 1808778 words/s, in_qsize 19, out_qsize 0\n",
      "2018-10-08 21:15:40,696 : INFO : worker thread finished; awaiting finish of 9 more threads\n",
      "2018-10-08 21:15:40,697 : INFO : worker thread finished; awaiting finish of 8 more threads\n",
      "2018-10-08 21:15:40,701 : INFO : worker thread finished; awaiting finish of 7 more threads\n",
      "2018-10-08 21:15:40,704 : INFO : worker thread finished; awaiting finish of 6 more threads\n"
     ]
    },
    {
     "name": "stderr",
     "output_type": "stream",
     "text": [
      "2018-10-08 21:15:40,710 : INFO : worker thread finished; awaiting finish of 5 more threads\n",
      "2018-10-08 21:15:40,711 : INFO : worker thread finished; awaiting finish of 4 more threads\n",
      "2018-10-08 21:15:40,713 : INFO : worker thread finished; awaiting finish of 3 more threads\n",
      "2018-10-08 21:15:40,716 : INFO : worker thread finished; awaiting finish of 2 more threads\n",
      "2018-10-08 21:15:40,723 : INFO : worker thread finished; awaiting finish of 1 more threads\n",
      "2018-10-08 21:15:40,728 : INFO : worker thread finished; awaiting finish of 0 more threads\n",
      "2018-10-08 21:15:40,729 : INFO : EPOCH - 2 : training on 41519355 raw words (30349300 effective words) took 16.8s, 1809068 effective words/s\n",
      "2018-10-08 21:15:41,748 : INFO : EPOCH 3 - PROGRESS: at 5.90% examples, 1807389 words/s, in_qsize 18, out_qsize 1\n",
      "2018-10-08 21:15:42,753 : INFO : EPOCH 3 - PROGRESS: at 11.45% examples, 1844151 words/s, in_qsize 19, out_qsize 0\n",
      "2018-10-08 21:15:43,763 : INFO : EPOCH 3 - PROGRESS: at 15.58% examples, 1704903 words/s, in_qsize 19, out_qsize 0\n",
      "2018-10-08 21:15:44,766 : INFO : EPOCH 3 - PROGRESS: at 20.42% examples, 1731777 words/s, in_qsize 19, out_qsize 0\n",
      "2018-10-08 21:15:45,770 : INFO : EPOCH 3 - PROGRESS: at 25.88% examples, 1754557 words/s, in_qsize 18, out_qsize 1\n",
      "2018-10-08 21:15:46,774 : INFO : EPOCH 3 - PROGRESS: at 32.30% examples, 1753358 words/s, in_qsize 19, out_qsize 0\n",
      "2018-10-08 21:15:47,776 : INFO : EPOCH 3 - PROGRESS: at 38.19% examples, 1745332 words/s, in_qsize 19, out_qsize 0\n",
      "2018-10-08 21:15:48,781 : INFO : EPOCH 3 - PROGRESS: at 44.80% examples, 1753250 words/s, in_qsize 19, out_qsize 0\n",
      "2018-10-08 21:15:49,788 : INFO : EPOCH 3 - PROGRESS: at 51.78% examples, 1780571 words/s, in_qsize 19, out_qsize 0\n",
      "2018-10-08 21:15:50,791 : INFO : EPOCH 3 - PROGRESS: at 58.39% examples, 1796821 words/s, in_qsize 19, out_qsize 0\n",
      "2018-10-08 21:15:51,801 : INFO : EPOCH 3 - PROGRESS: at 62.75% examples, 1746649 words/s, in_qsize 18, out_qsize 2\n",
      "2018-10-08 21:15:52,803 : INFO : EPOCH 3 - PROGRESS: at 69.06% examples, 1752360 words/s, in_qsize 17, out_qsize 2\n",
      "2018-10-08 21:15:53,809 : INFO : EPOCH 3 - PROGRESS: at 72.87% examples, 1705594 words/s, in_qsize 16, out_qsize 3\n",
      "2018-10-08 21:15:54,815 : INFO : EPOCH 3 - PROGRESS: at 77.15% examples, 1677366 words/s, in_qsize 16, out_qsize 3\n",
      "2018-10-08 21:15:55,821 : INFO : EPOCH 3 - PROGRESS: at 83.31% examples, 1689936 words/s, in_qsize 18, out_qsize 1\n",
      "2018-10-08 21:15:56,825 : INFO : EPOCH 3 - PROGRESS: at 89.16% examples, 1691095 words/s, in_qsize 19, out_qsize 0\n",
      "2018-10-08 21:15:57,825 : INFO : EPOCH 3 - PROGRESS: at 94.26% examples, 1678646 words/s, in_qsize 18, out_qsize 1\n",
      "2018-10-08 21:15:58,683 : INFO : worker thread finished; awaiting finish of 9 more threads\n",
      "2018-10-08 21:15:58,684 : INFO : worker thread finished; awaiting finish of 8 more threads\n",
      "2018-10-08 21:15:58,689 : INFO : worker thread finished; awaiting finish of 7 more threads\n",
      "2018-10-08 21:15:58,690 : INFO : worker thread finished; awaiting finish of 6 more threads\n",
      "2018-10-08 21:15:58,691 : INFO : worker thread finished; awaiting finish of 5 more threads\n",
      "2018-10-08 21:15:58,692 : INFO : worker thread finished; awaiting finish of 4 more threads\n",
      "2018-10-08 21:15:58,694 : INFO : worker thread finished; awaiting finish of 3 more threads\n",
      "2018-10-08 21:15:58,698 : INFO : worker thread finished; awaiting finish of 2 more threads\n",
      "2018-10-08 21:15:58,702 : INFO : worker thread finished; awaiting finish of 1 more threads\n",
      "2018-10-08 21:15:58,705 : INFO : worker thread finished; awaiting finish of 0 more threads\n",
      "2018-10-08 21:15:58,706 : INFO : EPOCH - 3 : training on 41519355 raw words (30350465 effective words) took 18.0s, 1688831 effective words/s\n",
      "2018-10-08 21:15:59,716 : INFO : EPOCH 4 - PROGRESS: at 6.16% examples, 1894138 words/s, in_qsize 19, out_qsize 0\n",
      "2018-10-08 21:16:00,719 : INFO : EPOCH 4 - PROGRESS: at 11.64% examples, 1889524 words/s, in_qsize 19, out_qsize 1\n",
      "2018-10-08 21:16:01,727 : INFO : EPOCH 4 - PROGRESS: at 17.02% examples, 1883364 words/s, in_qsize 17, out_qsize 2\n",
      "2018-10-08 21:16:02,734 : INFO : EPOCH 4 - PROGRESS: at 21.97% examples, 1854144 words/s, in_qsize 17, out_qsize 2\n",
      "2018-10-08 21:16:03,736 : INFO : EPOCH 4 - PROGRESS: at 27.37% examples, 1835611 words/s, in_qsize 19, out_qsize 0\n",
      "2018-10-08 21:16:04,736 : INFO : EPOCH 4 - PROGRESS: at 33.80% examples, 1831304 words/s, in_qsize 17, out_qsize 2\n",
      "2018-10-08 21:16:05,736 : INFO : EPOCH 4 - PROGRESS: at 40.04% examples, 1822125 words/s, in_qsize 19, out_qsize 0\n",
      "2018-10-08 21:16:06,744 : INFO : EPOCH 4 - PROGRESS: at 46.37% examples, 1810641 words/s, in_qsize 19, out_qsize 0\n",
      "2018-10-08 21:16:07,751 : INFO : EPOCH 4 - PROGRESS: at 52.54% examples, 1808032 words/s, in_qsize 19, out_qsize 0\n",
      "2018-10-08 21:16:08,757 : INFO : EPOCH 4 - PROGRESS: at 58.75% examples, 1807957 words/s, in_qsize 18, out_qsize 1\n",
      "2018-10-08 21:16:09,760 : INFO : EPOCH 4 - PROGRESS: at 65.13% examples, 1806129 words/s, in_qsize 19, out_qsize 0\n",
      "2018-10-08 21:16:10,761 : INFO : EPOCH 4 - PROGRESS: at 70.84% examples, 1801729 words/s, in_qsize 18, out_qsize 1\n",
      "2018-10-08 21:16:11,765 : INFO : EPOCH 4 - PROGRESS: at 76.99% examples, 1804428 words/s, in_qsize 19, out_qsize 0\n",
      "2018-10-08 21:16:12,774 : INFO : EPOCH 4 - PROGRESS: at 82.90% examples, 1803959 words/s, in_qsize 19, out_qsize 0\n",
      "2018-10-08 21:16:13,777 : INFO : EPOCH 4 - PROGRESS: at 89.19% examples, 1806133 words/s, in_qsize 17, out_qsize 2\n",
      "2018-10-08 21:16:14,783 : INFO : EPOCH 4 - PROGRESS: at 95.62% examples, 1809085 words/s, in_qsize 18, out_qsize 1\n",
      "2018-10-08 21:16:15,461 : INFO : worker thread finished; awaiting finish of 9 more threads\n",
      "2018-10-08 21:16:15,467 : INFO : worker thread finished; awaiting finish of 8 more threads\n",
      "2018-10-08 21:16:15,469 : INFO : worker thread finished; awaiting finish of 7 more threads\n",
      "2018-10-08 21:16:15,475 : INFO : worker thread finished; awaiting finish of 6 more threads\n",
      "2018-10-08 21:16:15,477 : INFO : worker thread finished; awaiting finish of 5 more threads\n",
      "2018-10-08 21:16:15,478 : INFO : worker thread finished; awaiting finish of 4 more threads\n",
      "2018-10-08 21:16:15,479 : INFO : worker thread finished; awaiting finish of 3 more threads\n",
      "2018-10-08 21:16:15,493 : INFO : worker thread finished; awaiting finish of 2 more threads\n",
      "2018-10-08 21:16:15,495 : INFO : worker thread finished; awaiting finish of 1 more threads\n",
      "2018-10-08 21:16:15,496 : INFO : worker thread finished; awaiting finish of 0 more threads\n",
      "2018-10-08 21:16:15,497 : INFO : EPOCH - 4 : training on 41519355 raw words (30350867 effective words) took 16.8s, 1807921 effective words/s\n",
      "2018-10-08 21:16:16,517 : INFO : EPOCH 5 - PROGRESS: at 6.03% examples, 1837280 words/s, in_qsize 18, out_qsize 1\n",
      "2018-10-08 21:16:17,524 : INFO : EPOCH 5 - PROGRESS: at 11.56% examples, 1858079 words/s, in_qsize 18, out_qsize 1\n",
      "2018-10-08 21:16:18,524 : INFO : EPOCH 5 - PROGRESS: at 16.86% examples, 1859862 words/s, in_qsize 18, out_qsize 1\n",
      "2018-10-08 21:16:19,529 : INFO : EPOCH 5 - PROGRESS: at 22.06% examples, 1862307 words/s, in_qsize 18, out_qsize 1\n",
      "2018-10-08 21:16:20,538 : INFO : EPOCH 5 - PROGRESS: at 27.94% examples, 1861020 words/s, in_qsize 19, out_qsize 0\n",
      "2018-10-08 21:16:21,550 : INFO : EPOCH 5 - PROGRESS: at 34.56% examples, 1860128 words/s, in_qsize 18, out_qsize 1\n",
      "2018-10-08 21:16:22,559 : INFO : EPOCH 5 - PROGRESS: at 41.22% examples, 1859816 words/s, in_qsize 20, out_qsize 2\n",
      "2018-10-08 21:16:23,564 : INFO : EPOCH 5 - PROGRESS: at 47.91% examples, 1861137 words/s, in_qsize 19, out_qsize 1\n",
      "2018-10-08 21:16:24,566 : INFO : EPOCH 5 - PROGRESS: at 54.20% examples, 1861052 words/s, in_qsize 19, out_qsize 0\n",
      "2018-10-08 21:16:25,572 : INFO : EPOCH 5 - PROGRESS: at 60.78% examples, 1862021 words/s, in_qsize 19, out_qsize 0\n",
      "2018-10-08 21:16:26,574 : INFO : EPOCH 5 - PROGRESS: at 67.09% examples, 1857427 words/s, in_qsize 19, out_qsize 0\n",
      "2018-10-08 21:16:27,581 : INFO : EPOCH 5 - PROGRESS: at 72.25% examples, 1832619 words/s, in_qsize 19, out_qsize 0\n",
      "2018-10-08 21:16:28,591 : INFO : EPOCH 5 - PROGRESS: at 78.23% examples, 1830862 words/s, in_qsize 18, out_qsize 1\n",
      "2018-10-08 21:16:29,596 : INFO : EPOCH 5 - PROGRESS: at 84.31% examples, 1831506 words/s, in_qsize 19, out_qsize 0\n",
      "2018-10-08 21:16:30,607 : INFO : EPOCH 5 - PROGRESS: at 90.80% examples, 1832093 words/s, in_qsize 19, out_qsize 0\n"
     ]
    },
    {
     "name": "stderr",
     "output_type": "stream",
     "text": [
      "2018-10-08 21:16:31,615 : INFO : EPOCH 5 - PROGRESS: at 97.26% examples, 1834823 words/s, in_qsize 18, out_qsize 1\n",
      "2018-10-08 21:16:31,964 : INFO : worker thread finished; awaiting finish of 9 more threads\n",
      "2018-10-08 21:16:31,974 : INFO : worker thread finished; awaiting finish of 8 more threads\n",
      "2018-10-08 21:16:31,976 : INFO : worker thread finished; awaiting finish of 7 more threads\n",
      "2018-10-08 21:16:31,977 : INFO : worker thread finished; awaiting finish of 6 more threads\n",
      "2018-10-08 21:16:31,978 : INFO : worker thread finished; awaiting finish of 5 more threads\n",
      "2018-10-08 21:16:31,985 : INFO : worker thread finished; awaiting finish of 4 more threads\n",
      "2018-10-08 21:16:31,987 : INFO : worker thread finished; awaiting finish of 3 more threads\n",
      "2018-10-08 21:16:31,988 : INFO : worker thread finished; awaiting finish of 2 more threads\n",
      "2018-10-08 21:16:31,995 : INFO : worker thread finished; awaiting finish of 1 more threads\n",
      "2018-10-08 21:16:31,997 : INFO : worker thread finished; awaiting finish of 0 more threads\n",
      "2018-10-08 21:16:31,998 : INFO : EPOCH - 5 : training on 41519355 raw words (30349248 effective words) took 16.5s, 1840086 effective words/s\n",
      "2018-10-08 21:16:33,007 : INFO : EPOCH 6 - PROGRESS: at 5.88% examples, 1814335 words/s, in_qsize 17, out_qsize 2\n",
      "2018-10-08 21:16:34,013 : INFO : EPOCH 6 - PROGRESS: at 11.42% examples, 1843799 words/s, in_qsize 18, out_qsize 1\n",
      "2018-10-08 21:16:35,022 : INFO : EPOCH 6 - PROGRESS: at 16.64% examples, 1838539 words/s, in_qsize 19, out_qsize 0\n",
      "2018-10-08 21:16:36,027 : INFO : EPOCH 6 - PROGRESS: at 21.82% examples, 1840639 words/s, in_qsize 19, out_qsize 0\n",
      "2018-10-08 21:16:37,036 : INFO : EPOCH 6 - PROGRESS: at 27.41% examples, 1835072 words/s, in_qsize 18, out_qsize 1\n",
      "2018-10-08 21:16:38,038 : INFO : EPOCH 6 - PROGRESS: at 34.10% examples, 1843820 words/s, in_qsize 18, out_qsize 1\n",
      "2018-10-08 21:16:39,042 : INFO : EPOCH 6 - PROGRESS: at 40.82% examples, 1850995 words/s, in_qsize 18, out_qsize 1\n",
      "2018-10-08 21:16:40,045 : INFO : EPOCH 6 - PROGRESS: at 47.59% examples, 1853979 words/s, in_qsize 19, out_qsize 0\n",
      "2018-10-08 21:16:41,053 : INFO : EPOCH 6 - PROGRESS: at 53.93% examples, 1855093 words/s, in_qsize 19, out_qsize 0\n",
      "2018-10-08 21:16:42,053 : INFO : EPOCH 6 - PROGRESS: at 60.51% examples, 1858536 words/s, in_qsize 19, out_qsize 0\n",
      "2018-10-08 21:16:43,060 : INFO : EPOCH 6 - PROGRESS: at 67.07% examples, 1859835 words/s, in_qsize 18, out_qsize 1\n",
      "2018-10-08 21:16:44,063 : INFO : EPOCH 6 - PROGRESS: at 73.33% examples, 1859849 words/s, in_qsize 18, out_qsize 1\n",
      "2018-10-08 21:16:45,063 : INFO : EPOCH 6 - PROGRESS: at 79.32% examples, 1859605 words/s, in_qsize 19, out_qsize 0\n",
      "2018-10-08 21:16:46,065 : INFO : EPOCH 6 - PROGRESS: at 85.37% examples, 1860159 words/s, in_qsize 19, out_qsize 0\n",
      "2018-10-08 21:16:47,065 : INFO : EPOCH 6 - PROGRESS: at 92.14% examples, 1862607 words/s, in_qsize 19, out_qsize 0\n",
      "2018-10-08 21:16:48,066 : INFO : EPOCH 6 - PROGRESS: at 98.51% examples, 1863272 words/s, in_qsize 19, out_qsize 0\n",
      "2018-10-08 21:16:48,247 : INFO : worker thread finished; awaiting finish of 9 more threads\n",
      "2018-10-08 21:16:48,252 : INFO : worker thread finished; awaiting finish of 8 more threads\n",
      "2018-10-08 21:16:48,256 : INFO : worker thread finished; awaiting finish of 7 more threads\n",
      "2018-10-08 21:16:48,257 : INFO : worker thread finished; awaiting finish of 6 more threads\n",
      "2018-10-08 21:16:48,258 : INFO : worker thread finished; awaiting finish of 5 more threads\n",
      "2018-10-08 21:16:48,263 : INFO : worker thread finished; awaiting finish of 4 more threads\n",
      "2018-10-08 21:16:48,264 : INFO : worker thread finished; awaiting finish of 3 more threads\n",
      "2018-10-08 21:16:48,266 : INFO : worker thread finished; awaiting finish of 2 more threads\n",
      "2018-10-08 21:16:48,267 : INFO : worker thread finished; awaiting finish of 1 more threads\n",
      "2018-10-08 21:16:48,271 : INFO : worker thread finished; awaiting finish of 0 more threads\n",
      "2018-10-08 21:16:48,272 : INFO : EPOCH - 6 : training on 41519355 raw words (30347307 effective words) took 16.3s, 1865637 effective words/s\n",
      "2018-10-08 21:16:49,284 : INFO : EPOCH 7 - PROGRESS: at 6.05% examples, 1853345 words/s, in_qsize 17, out_qsize 2\n",
      "2018-10-08 21:16:50,290 : INFO : EPOCH 7 - PROGRESS: at 11.52% examples, 1858986 words/s, in_qsize 19, out_qsize 0\n",
      "2018-10-08 21:16:51,296 : INFO : EPOCH 7 - PROGRESS: at 16.84% examples, 1857346 words/s, in_qsize 19, out_qsize 0\n",
      "2018-10-08 21:16:52,300 : INFO : EPOCH 7 - PROGRESS: at 22.05% examples, 1861295 words/s, in_qsize 19, out_qsize 0\n",
      "2018-10-08 21:16:53,301 : INFO : EPOCH 7 - PROGRESS: at 28.01% examples, 1868949 words/s, in_qsize 19, out_qsize 0\n",
      "2018-10-08 21:16:54,309 : INFO : EPOCH 7 - PROGRESS: at 34.64% examples, 1869108 words/s, in_qsize 17, out_qsize 2\n",
      "2018-10-08 21:16:55,311 : INFO : EPOCH 7 - PROGRESS: at 41.25% examples, 1866200 words/s, in_qsize 18, out_qsize 1\n",
      "2018-10-08 21:16:56,312 : INFO : EPOCH 7 - PROGRESS: at 47.93% examples, 1867923 words/s, in_qsize 18, out_qsize 1\n",
      "2018-10-08 21:16:57,313 : INFO : EPOCH 7 - PROGRESS: at 54.32% examples, 1870521 words/s, in_qsize 18, out_qsize 1\n",
      "2018-10-08 21:16:58,314 : INFO : EPOCH 7 - PROGRESS: at 60.81% examples, 1868566 words/s, in_qsize 18, out_qsize 1\n",
      "2018-10-08 21:16:59,322 : INFO : EPOCH 7 - PROGRESS: at 67.52% examples, 1873288 words/s, in_qsize 20, out_qsize 1\n",
      "2018-10-08 21:17:00,322 : INFO : EPOCH 7 - PROGRESS: at 74.00% examples, 1876706 words/s, in_qsize 19, out_qsize 1\n",
      "2018-10-08 21:17:01,328 : INFO : EPOCH 7 - PROGRESS: at 80.14% examples, 1880549 words/s, in_qsize 18, out_qsize 1\n",
      "2018-10-08 21:17:02,330 : INFO : EPOCH 7 - PROGRESS: at 86.39% examples, 1881480 words/s, in_qsize 16, out_qsize 3\n",
      "2018-10-08 21:17:03,332 : INFO : EPOCH 7 - PROGRESS: at 93.06% examples, 1882944 words/s, in_qsize 19, out_qsize 0\n",
      "2018-10-08 21:17:04,340 : INFO : EPOCH 7 - PROGRESS: at 99.64% examples, 1883321 words/s, in_qsize 14, out_qsize 0\n",
      "2018-10-08 21:17:04,367 : INFO : worker thread finished; awaiting finish of 9 more threads\n",
      "2018-10-08 21:17:04,368 : INFO : worker thread finished; awaiting finish of 8 more threads\n",
      "2018-10-08 21:17:04,369 : INFO : worker thread finished; awaiting finish of 7 more threads\n",
      "2018-10-08 21:17:04,370 : INFO : worker thread finished; awaiting finish of 6 more threads\n",
      "2018-10-08 21:17:04,372 : INFO : worker thread finished; awaiting finish of 5 more threads\n",
      "2018-10-08 21:17:04,374 : INFO : worker thread finished; awaiting finish of 4 more threads\n",
      "2018-10-08 21:17:04,377 : INFO : worker thread finished; awaiting finish of 3 more threads\n",
      "2018-10-08 21:17:04,382 : INFO : worker thread finished; awaiting finish of 2 more threads\n",
      "2018-10-08 21:17:04,386 : INFO : worker thread finished; awaiting finish of 1 more threads\n",
      "2018-10-08 21:17:04,388 : INFO : worker thread finished; awaiting finish of 0 more threads\n",
      "2018-10-08 21:17:04,389 : INFO : EPOCH - 7 : training on 41519355 raw words (30349229 effective words) took 16.1s, 1883610 effective words/s\n",
      "2018-10-08 21:17:05,398 : INFO : EPOCH 8 - PROGRESS: at 6.14% examples, 1888535 words/s, in_qsize 19, out_qsize 0\n",
      "2018-10-08 21:17:06,399 : INFO : EPOCH 8 - PROGRESS: at 11.65% examples, 1896435 words/s, in_qsize 18, out_qsize 1\n",
      "2018-10-08 21:17:07,403 : INFO : EPOCH 8 - PROGRESS: at 17.14% examples, 1904729 words/s, in_qsize 19, out_qsize 0\n",
      "2018-10-08 21:17:08,405 : INFO : EPOCH 8 - PROGRESS: at 22.46% examples, 1904659 words/s, in_qsize 20, out_qsize 2\n",
      "2018-10-08 21:17:09,416 : INFO : EPOCH 8 - PROGRESS: at 28.46% examples, 1895937 words/s, in_qsize 18, out_qsize 2\n",
      "2018-10-08 21:17:10,419 : INFO : EPOCH 8 - PROGRESS: at 35.10% examples, 1895381 words/s, in_qsize 19, out_qsize 1\n",
      "2018-10-08 21:17:11,420 : INFO : EPOCH 8 - PROGRESS: at 42.00% examples, 1896130 words/s, in_qsize 18, out_qsize 1\n",
      "2018-10-08 21:17:12,421 : INFO : EPOCH 8 - PROGRESS: at 48.64% examples, 1894961 words/s, in_qsize 19, out_qsize 0\n",
      "2018-10-08 21:17:13,435 : INFO : EPOCH 8 - PROGRESS: at 54.95% examples, 1889606 words/s, in_qsize 19, out_qsize 0\n",
      "2018-10-08 21:17:14,439 : INFO : EPOCH 8 - PROGRESS: at 61.56% examples, 1890258 words/s, in_qsize 17, out_qsize 2\n",
      "2018-10-08 21:17:15,443 : INFO : EPOCH 8 - PROGRESS: at 68.07% examples, 1887230 words/s, in_qsize 18, out_qsize 1\n"
     ]
    },
    {
     "name": "stderr",
     "output_type": "stream",
     "text": [
      "2018-10-08 21:17:16,444 : INFO : EPOCH 8 - PROGRESS: at 74.30% examples, 1884696 words/s, in_qsize 19, out_qsize 0\n",
      "2018-10-08 21:17:17,446 : INFO : EPOCH 8 - PROGRESS: at 80.18% examples, 1881866 words/s, in_qsize 18, out_qsize 1\n",
      "2018-10-08 21:17:18,449 : INFO : EPOCH 8 - PROGRESS: at 86.11% examples, 1876513 words/s, in_qsize 17, out_qsize 2\n",
      "2018-10-08 21:17:19,452 : INFO : EPOCH 8 - PROGRESS: at 92.51% examples, 1870911 words/s, in_qsize 19, out_qsize 0\n",
      "2018-10-08 21:17:20,453 : INFO : EPOCH 8 - PROGRESS: at 98.60% examples, 1865618 words/s, in_qsize 18, out_qsize 1\n",
      "2018-10-08 21:17:20,628 : INFO : worker thread finished; awaiting finish of 9 more threads\n",
      "2018-10-08 21:17:20,633 : INFO : worker thread finished; awaiting finish of 8 more threads\n",
      "2018-10-08 21:17:20,635 : INFO : worker thread finished; awaiting finish of 7 more threads\n",
      "2018-10-08 21:17:20,636 : INFO : worker thread finished; awaiting finish of 6 more threads\n",
      "2018-10-08 21:17:20,637 : INFO : worker thread finished; awaiting finish of 5 more threads\n",
      "2018-10-08 21:17:20,644 : INFO : worker thread finished; awaiting finish of 4 more threads\n",
      "2018-10-08 21:17:20,645 : INFO : worker thread finished; awaiting finish of 3 more threads\n",
      "2018-10-08 21:17:20,648 : INFO : worker thread finished; awaiting finish of 2 more threads\n",
      "2018-10-08 21:17:20,654 : INFO : worker thread finished; awaiting finish of 1 more threads\n",
      "2018-10-08 21:17:20,654 : INFO : worker thread finished; awaiting finish of 0 more threads\n",
      "2018-10-08 21:17:20,655 : INFO : EPOCH - 8 : training on 41519355 raw words (30354294 effective words) took 16.3s, 1866627 effective words/s\n",
      "2018-10-08 21:17:21,668 : INFO : EPOCH 9 - PROGRESS: at 5.63% examples, 1725564 words/s, in_qsize 19, out_qsize 0\n",
      "2018-10-08 21:17:22,672 : INFO : EPOCH 9 - PROGRESS: at 10.99% examples, 1760860 words/s, in_qsize 17, out_qsize 2\n",
      "2018-10-08 21:17:23,672 : INFO : EPOCH 9 - PROGRESS: at 16.02% examples, 1766956 words/s, in_qsize 18, out_qsize 1\n",
      "2018-10-08 21:17:24,677 : INFO : EPOCH 9 - PROGRESS: at 20.62% examples, 1759068 words/s, in_qsize 19, out_qsize 0\n",
      "2018-10-08 21:17:25,678 : INFO : EPOCH 9 - PROGRESS: at 25.82% examples, 1756314 words/s, in_qsize 19, out_qsize 0\n",
      "2018-10-08 21:17:26,687 : INFO : EPOCH 9 - PROGRESS: at 32.13% examples, 1748219 words/s, in_qsize 17, out_qsize 2\n",
      "2018-10-08 21:17:27,688 : INFO : EPOCH 9 - PROGRESS: at 37.40% examples, 1716981 words/s, in_qsize 19, out_qsize 0\n",
      "2018-10-08 21:17:28,693 : INFO : EPOCH 9 - PROGRESS: at 43.13% examples, 1699233 words/s, in_qsize 19, out_qsize 0\n",
      "2018-10-08 21:17:29,708 : INFO : EPOCH 9 - PROGRESS: at 47.65% examples, 1649663 words/s, in_qsize 19, out_qsize 1\n",
      "2018-10-08 21:17:30,708 : INFO : EPOCH 9 - PROGRESS: at 52.67% examples, 1631493 words/s, in_qsize 19, out_qsize 0\n",
      "2018-10-08 21:17:31,715 : INFO : EPOCH 9 - PROGRESS: at 58.54% examples, 1637824 words/s, in_qsize 17, out_qsize 2\n",
      "2018-10-08 21:17:32,725 : INFO : EPOCH 9 - PROGRESS: at 64.72% examples, 1643521 words/s, in_qsize 16, out_qsize 3\n",
      "2018-10-08 21:17:33,735 : INFO : EPOCH 9 - PROGRESS: at 70.36% examples, 1648862 words/s, in_qsize 18, out_qsize 1\n",
      "2018-10-08 21:17:34,741 : INFO : EPOCH 9 - PROGRESS: at 75.88% examples, 1647872 words/s, in_qsize 19, out_qsize 0\n",
      "2018-10-08 21:17:35,741 : INFO : EPOCH 9 - PROGRESS: at 81.12% examples, 1647869 words/s, in_qsize 18, out_qsize 1\n",
      "2018-10-08 21:17:36,749 : INFO : EPOCH 9 - PROGRESS: at 86.53% examples, 1645570 words/s, in_qsize 17, out_qsize 2\n",
      "2018-10-08 21:17:37,753 : INFO : EPOCH 9 - PROGRESS: at 92.34% examples, 1644492 words/s, in_qsize 19, out_qsize 0\n",
      "2018-10-08 21:17:38,757 : INFO : EPOCH 9 - PROGRESS: at 97.94% examples, 1644435 words/s, in_qsize 19, out_qsize 0\n",
      "2018-10-08 21:17:39,054 : INFO : worker thread finished; awaiting finish of 9 more threads\n",
      "2018-10-08 21:17:39,064 : INFO : worker thread finished; awaiting finish of 8 more threads\n",
      "2018-10-08 21:17:39,065 : INFO : worker thread finished; awaiting finish of 7 more threads\n",
      "2018-10-08 21:17:39,067 : INFO : worker thread finished; awaiting finish of 6 more threads\n",
      "2018-10-08 21:17:39,073 : INFO : worker thread finished; awaiting finish of 5 more threads\n",
      "2018-10-08 21:17:39,077 : INFO : worker thread finished; awaiting finish of 4 more threads\n",
      "2018-10-08 21:17:39,078 : INFO : worker thread finished; awaiting finish of 3 more threads\n",
      "2018-10-08 21:17:39,089 : INFO : worker thread finished; awaiting finish of 2 more threads\n",
      "2018-10-08 21:17:39,090 : INFO : worker thread finished; awaiting finish of 1 more threads\n",
      "2018-10-08 21:17:39,092 : INFO : worker thread finished; awaiting finish of 0 more threads\n",
      "2018-10-08 21:17:39,092 : INFO : EPOCH - 9 : training on 41519355 raw words (30346862 effective words) took 18.4s, 1646453 effective words/s\n",
      "2018-10-08 21:17:40,104 : INFO : EPOCH 10 - PROGRESS: at 5.24% examples, 1608525 words/s, in_qsize 18, out_qsize 1\n",
      "2018-10-08 21:17:41,107 : INFO : EPOCH 10 - PROGRESS: at 10.15% examples, 1614302 words/s, in_qsize 19, out_qsize 0\n",
      "2018-10-08 21:17:42,107 : INFO : EPOCH 10 - PROGRESS: at 14.80% examples, 1630162 words/s, in_qsize 20, out_qsize 1\n",
      "2018-10-08 21:17:43,110 : INFO : EPOCH 10 - PROGRESS: at 19.35% examples, 1636857 words/s, in_qsize 19, out_qsize 0\n",
      "2018-10-08 21:17:44,116 : INFO : EPOCH 10 - PROGRESS: at 23.93% examples, 1640526 words/s, in_qsize 20, out_qsize 1\n",
      "2018-10-08 21:17:45,122 : INFO : EPOCH 10 - PROGRESS: at 29.80% examples, 1642967 words/s, in_qsize 19, out_qsize 0\n",
      "2018-10-08 21:17:46,134 : INFO : EPOCH 10 - PROGRESS: at 35.65% examples, 1643710 words/s, in_qsize 19, out_qsize 0\n",
      "2018-10-08 21:17:47,136 : INFO : EPOCH 10 - PROGRESS: at 41.65% examples, 1645851 words/s, in_qsize 19, out_qsize 0\n",
      "2018-10-08 21:17:48,139 : INFO : EPOCH 10 - PROGRESS: at 47.56% examples, 1647957 words/s, in_qsize 19, out_qsize 0\n",
      "2018-10-08 21:17:49,144 : INFO : EPOCH 10 - PROGRESS: at 53.19% examples, 1649309 words/s, in_qsize 19, out_qsize 0\n",
      "2018-10-08 21:17:50,145 : INFO : EPOCH 10 - PROGRESS: at 58.97% examples, 1649661 words/s, in_qsize 17, out_qsize 2\n",
      "2018-10-08 21:17:51,151 : INFO : EPOCH 10 - PROGRESS: at 64.86% examples, 1648737 words/s, in_qsize 17, out_qsize 2\n",
      "2018-10-08 21:17:52,154 : INFO : EPOCH 10 - PROGRESS: at 70.13% examples, 1646488 words/s, in_qsize 17, out_qsize 2\n",
      "2018-10-08 21:17:53,154 : INFO : EPOCH 10 - PROGRESS: at 75.72% examples, 1647257 words/s, in_qsize 18, out_qsize 1\n",
      "2018-10-08 21:17:54,155 : INFO : EPOCH 10 - PROGRESS: at 81.04% examples, 1649095 words/s, in_qsize 19, out_qsize 0\n",
      "2018-10-08 21:17:55,167 : INFO : EPOCH 10 - PROGRESS: at 86.69% examples, 1650533 words/s, in_qsize 18, out_qsize 1\n",
      "2018-10-08 21:17:56,170 : INFO : EPOCH 10 - PROGRESS: at 92.60% examples, 1651691 words/s, in_qsize 19, out_qsize 0\n",
      "2018-10-08 21:17:57,173 : INFO : EPOCH 10 - PROGRESS: at 98.30% examples, 1652653 words/s, in_qsize 19, out_qsize 0\n",
      "2018-10-08 21:17:57,415 : INFO : worker thread finished; awaiting finish of 9 more threads\n",
      "2018-10-08 21:17:57,422 : INFO : worker thread finished; awaiting finish of 8 more threads\n",
      "2018-10-08 21:17:57,423 : INFO : worker thread finished; awaiting finish of 7 more threads\n",
      "2018-10-08 21:17:57,424 : INFO : worker thread finished; awaiting finish of 6 more threads\n",
      "2018-10-08 21:17:57,427 : INFO : worker thread finished; awaiting finish of 5 more threads\n",
      "2018-10-08 21:17:57,432 : INFO : worker thread finished; awaiting finish of 4 more threads\n",
      "2018-10-08 21:17:57,435 : INFO : worker thread finished; awaiting finish of 3 more threads\n",
      "2018-10-08 21:17:57,435 : INFO : worker thread finished; awaiting finish of 2 more threads\n",
      "2018-10-08 21:17:57,437 : INFO : worker thread finished; awaiting finish of 1 more threads\n",
      "2018-10-08 21:17:57,444 : INFO : worker thread finished; awaiting finish of 0 more threads\n",
      "2018-10-08 21:17:57,444 : INFO : EPOCH - 10 : training on 41519355 raw words (30349360 effective words) took 18.3s, 1654349 effective words/s\n",
      "2018-10-08 21:17:57,445 : INFO : training on a 415193550 raw words (303495803 effective words) took 170.5s, 1780544 effective words/s\n"
     ]
    },
    {
     "data": {
      "text/plain": [
       "(303495803, 415193550)"
      ]
     },
     "execution_count": 15,
     "metadata": {},
     "output_type": "execute_result"
    }
   ],
   "source": [
    "\n",
    "\n",
    "model = gensim.models.Word2Vec (documents, size=150, window=10, min_count=2, workers=10)\n",
    "model.train(documents,total_examples=len(documents),epochs=10)\n",
    "\n"
   ]
  },
  {
   "cell_type": "code",
   "execution_count": 17,
   "metadata": {},
   "outputs": [
    {
     "name": "stderr",
     "output_type": "stream",
     "text": [
      "2018-10-08 21:19:35,622 : INFO : precomputing L2-norms of word weight vectors\n",
      "/anaconda3/lib/python3.6/site-packages/gensim/matutils.py:737: FutureWarning: Conversion of the second argument of issubdtype from `int` to `np.signedinteger` is deprecated. In future, it will be treated as `np.int64 == np.dtype(int).type`.\n",
      "  if np.issubdtype(vec.dtype, np.int):\n"
     ]
    },
    {
     "data": {
      "text/plain": [
       "[('filthy', 0.8665109276771545),\n",
       " ('unclean', 0.8013407588005066),\n",
       " ('stained', 0.795298159122467),\n",
       " ('dusty', 0.7621710300445557),\n",
       " ('smelly', 0.7570717334747314),\n",
       " ('grubby', 0.7517218589782715),\n",
       " ('soiled', 0.7382304668426514),\n",
       " ('gross', 0.7320454120635986),\n",
       " ('dingy', 0.7311835885047913),\n",
       " ('disgusting', 0.7182753086090088)]"
      ]
     },
     "execution_count": 17,
     "metadata": {},
     "output_type": "execute_result"
    }
   ],
   "source": [
    "w1 = 'dirty'\n",
    "model.wv.most_similar(positive=w1)"
   ]
  },
  {
   "cell_type": "code",
   "execution_count": 18,
   "metadata": {},
   "outputs": [
    {
     "name": "stderr",
     "output_type": "stream",
     "text": [
      "/anaconda3/lib/python3.6/site-packages/gensim/matutils.py:737: FutureWarning: Conversion of the second argument of issubdtype from `int` to `np.signedinteger` is deprecated. In future, it will be treated as `np.int64 == np.dtype(int).type`.\n",
      "  if np.issubdtype(vec.dtype, np.int):\n"
     ]
    },
    {
     "data": {
      "text/plain": [
       "[('courteous', 0.9159743785858154),\n",
       " ('friendly', 0.829784631729126),\n",
       " ('cordial', 0.793756365776062),\n",
       " ('professional', 0.7894773483276367),\n",
       " ('curteous', 0.780514121055603),\n",
       " ('attentive', 0.7740626335144043)]"
      ]
     },
     "execution_count": 18,
     "metadata": {},
     "output_type": "execute_result"
    }
   ],
   "source": [
    "w1 = ['polite']\n",
    "model.wv.most_similar(positive=w1, topn=6)"
   ]
  },
  {
   "cell_type": "code",
   "execution_count": 19,
   "metadata": {},
   "outputs": [
    {
     "name": "stderr",
     "output_type": "stream",
     "text": [
      "/anaconda3/lib/python3.6/site-packages/gensim/matutils.py:737: FutureWarning: Conversion of the second argument of issubdtype from `int` to `np.signedinteger` is deprecated. In future, it will be treated as `np.int64 == np.dtype(int).type`.\n",
      "  if np.issubdtype(vec.dtype, np.int):\n"
     ]
    },
    {
     "data": {
      "text/plain": [
       "[('germany', 0.6837441921234131),\n",
       " ('canada', 0.635551393032074),\n",
       " ('barcelona', 0.629610538482666),\n",
       " ('spain', 0.6215773820877075),\n",
       " ('rome', 0.6104215979576111),\n",
       " ('mexico', 0.5992738008499146),\n",
       " ('gaulle', 0.5928020477294922),\n",
       " ('england', 0.58978670835495),\n",
       " ('thailand', 0.5842795968055725),\n",
       " ('detroit', 0.5806218385696411)]"
      ]
     },
     "execution_count": 19,
     "metadata": {},
     "output_type": "execute_result"
    }
   ],
   "source": [
    "w1 = ['france']\n",
    "model.wv.most_similar(positive=w1, topn=10)"
   ]
  },
  {
   "cell_type": "code",
   "execution_count": 20,
   "metadata": {},
   "outputs": [
    {
     "name": "stderr",
     "output_type": "stream",
     "text": [
      "/anaconda3/lib/python3.6/site-packages/gensim/matutils.py:737: FutureWarning: Conversion of the second argument of issubdtype from `int` to `np.signedinteger` is deprecated. In future, it will be treated as `np.int64 == np.dtype(int).type`.\n",
      "  if np.issubdtype(vec.dtype, np.int):\n"
     ]
    },
    {
     "data": {
      "text/plain": [
       "[('mattress', 0.6946732997894287),\n",
       " ('duvet', 0.6899550557136536),\n",
       " ('blanket', 0.6895846128463745),\n",
       " ('matress', 0.6764335632324219),\n",
       " ('pillowcase', 0.667163074016571),\n",
       " ('quilt', 0.6496788859367371),\n",
       " ('sheets', 0.6456437110900879),\n",
       " ('pillows', 0.6406525373458862),\n",
       " ('pillowcases', 0.6094613671302795),\n",
       " ('foam', 0.6083873510360718)]"
      ]
     },
     "execution_count": 20,
     "metadata": {},
     "output_type": "execute_result"
    }
   ],
   "source": [
    "# get everything related to stuff on the bed\n",
    "w1 = [\"bed\",'sheet','pillow']\n",
    "w2 = ['couch']\n",
    "model.wv.most_similar (positive=w1,negative=w2,topn=10)"
   ]
  },
  {
   "cell_type": "code",
   "execution_count": 21,
   "metadata": {},
   "outputs": [
    {
     "name": "stderr",
     "output_type": "stream",
     "text": [
      "/anaconda3/lib/python3.6/site-packages/gensim/matutils.py:737: FutureWarning: Conversion of the second argument of issubdtype from `int` to `np.signedinteger` is deprecated. In future, it will be treated as `np.int64 == np.dtype(int).type`.\n",
      "  if np.issubdtype(vec.dtype, np.int):\n"
     ]
    },
    {
     "data": {
      "text/plain": [
       "0.7570718"
      ]
     },
     "execution_count": 21,
     "metadata": {},
     "output_type": "execute_result"
    }
   ],
   "source": [
    "# similarity between two different words\n",
    "model.wv.similarity(w1=\"dirty\",w2=\"smelly\")"
   ]
  },
  {
   "cell_type": "code",
   "execution_count": 22,
   "metadata": {},
   "outputs": [
    {
     "name": "stderr",
     "output_type": "stream",
     "text": [
      "/anaconda3/lib/python3.6/site-packages/gensim/matutils.py:737: FutureWarning: Conversion of the second argument of issubdtype from `int` to `np.signedinteger` is deprecated. In future, it will be treated as `np.int64 == np.dtype(int).type`.\n",
      "  if np.issubdtype(vec.dtype, np.int):\n"
     ]
    },
    {
     "data": {
      "text/plain": [
       "1.0"
      ]
     },
     "execution_count": 22,
     "metadata": {},
     "output_type": "execute_result"
    }
   ],
   "source": [
    "# cosine similarity between two identical words\n",
    "model.wv.similarity(w1=\"dirty\",w2=\"dirty\")"
   ]
  },
  {
   "cell_type": "code",
   "execution_count": 23,
   "metadata": {},
   "outputs": [
    {
     "name": "stderr",
     "output_type": "stream",
     "text": [
      "/anaconda3/lib/python3.6/site-packages/gensim/matutils.py:737: FutureWarning: Conversion of the second argument of issubdtype from `int` to `np.signedinteger` is deprecated. In future, it will be treated as `np.int64 == np.dtype(int).type`.\n",
      "  if np.issubdtype(vec.dtype, np.int):\n"
     ]
    },
    {
     "data": {
      "text/plain": [
       "0.2671509"
      ]
     },
     "execution_count": 23,
     "metadata": {},
     "output_type": "execute_result"
    }
   ],
   "source": [
    "# cosine similarity between two unrelated words\n",
    "model.wv.similarity(w1=\"dirty\",w2=\"clean\")"
   ]
  },
  {
   "cell_type": "code",
   "execution_count": 24,
   "metadata": {},
   "outputs": [
    {
     "name": "stderr",
     "output_type": "stream",
     "text": [
      "/anaconda3/lib/python3.6/site-packages/gensim/matutils.py:737: FutureWarning: Conversion of the second argument of issubdtype from `int` to `np.signedinteger` is deprecated. In future, it will be treated as `np.int64 == np.dtype(int).type`.\n",
      "  if np.issubdtype(vec.dtype, np.int):\n"
     ]
    },
    {
     "data": {
      "text/plain": [
       "'france'"
      ]
     },
     "execution_count": 24,
     "metadata": {},
     "output_type": "execute_result"
    }
   ],
   "source": [
    "# Which one is the odd one out in this list?\n",
    "model.wv.doesnt_match([\"cat\",\"dog\",\"france\"])"
   ]
  },
  {
   "cell_type": "code",
   "execution_count": 25,
   "metadata": {},
   "outputs": [
    {
     "name": "stderr",
     "output_type": "stream",
     "text": [
      "/anaconda3/lib/python3.6/site-packages/gensim/matutils.py:737: FutureWarning: Conversion of the second argument of issubdtype from `int` to `np.signedinteger` is deprecated. In future, it will be treated as `np.int64 == np.dtype(int).type`.\n",
      "  if np.issubdtype(vec.dtype, np.int):\n"
     ]
    },
    {
     "data": {
      "text/plain": [
       "'shower'"
      ]
     },
     "execution_count": 25,
     "metadata": {},
     "output_type": "execute_result"
    }
   ],
   "source": [
    "# Which one is the odd one out in this list?\n",
    "model.wv.doesnt_match([\"bed\",\"pillow\",\"duvet\",\"shower\"])"
   ]
  },
  {
   "cell_type": "code",
   "execution_count": null,
   "metadata": {},
   "outputs": [],
   "source": []
  }
 ],
 "metadata": {
  "kernelspec": {
   "display_name": "Python 3",
   "language": "python",
   "name": "python3"
  },
  "language_info": {
   "codemirror_mode": {
    "name": "ipython",
    "version": 3
   },
   "file_extension": ".py",
   "mimetype": "text/x-python",
   "name": "python",
   "nbconvert_exporter": "python",
   "pygments_lexer": "ipython3",
   "version": "3.6.5"
  }
 },
 "nbformat": 4,
 "nbformat_minor": 2
}
